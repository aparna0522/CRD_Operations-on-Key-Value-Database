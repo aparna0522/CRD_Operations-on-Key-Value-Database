{
  "nbformat": 4,
  "nbformat_minor": 0,
  "metadata": {
    "colab": {
      "name": "CRD Operations.ipynb",
      "provenance": [],
      "collapsed_sections": []
    },
    "kernelspec": {
      "name": "python3",
      "display_name": "Python 3"
    }
  },
  "cells": [
    {
      "cell_type": "markdown",
      "metadata": {
        "id": "SM2fk5BTf09c"
      },
      "source": [
        "# Freshworks "
      ]
    },
    {
      "cell_type": "code",
      "metadata": {
        "id": "LplwqFaOcd9T"
      },
      "source": [
        "#Storing data\n",
        "import json"
      ],
      "execution_count": null,
      "outputs": []
    },
    {
      "cell_type": "code",
      "metadata": {
        "id": "jCXHnK0gHsMA",
        "colab": {
          "base_uri": "https://localhost:8080/"
        },
        "outputId": "4fe130f2-9705-42eb-daca-1e749dd3a987"
      },
      "source": [
        "import threading \n",
        "from threading import*\n",
        "import time"
      ],
      "execution_count": 20,
      "outputs": [
        {
          "output_type": "execute_result",
          "data": {
            "text/plain": [
              "False"
            ]
          },
          "metadata": {
            "tags": []
          },
          "execution_count": 20
        }
      ]
    },
    {
      "cell_type": "code",
      "metadata": {
        "id": "ciBEMRbGH1EL"
      },
      "source": [
        "#Dictionary to store the key value pairs\n",
        "d = {} "
      ],
      "execution_count": 3,
      "outputs": []
    },
    {
      "cell_type": "code",
      "metadata": {
        "id": "5LarbgGXHznL"
      },
      "source": [
        "#Create operation \n",
        "#Syntax \"create(key_name,value,timeout_value)\" timeout is optional attribute, so one can continue by passing two arguments without timeout\n",
        "\n",
        "def create(key,value,timeout=0):\n",
        "    if key in d:\n",
        "        #Error Message\n",
        "        print(\"Error: This key already exists!!!\") \n",
        "    else:\n",
        "        if(key.isalpha()):\n",
        "            #File size constraints: less than 1GB, JSON object value constraints: less than 16KB\n",
        "            if len(d)<(1024*1020*1024) and value<=(16*1024*1024):  \n",
        "                if timeout==0:\n",
        "                    l=[value,timeout]\n",
        "                else:\n",
        "                    l=[value,time.time()+timeout]\n",
        "                #Input key_name Constraints: Capped at 32chars\n",
        "                if len(key)<=32: \n",
        "                    d[key]=l\n",
        "            else:\n",
        "                #Error Message\n",
        "                print(\"Error: Memory limit exceeded!! \")\n",
        "        else:\n",
        "            #Error Message\n",
        "            print(\"Error: Invalind key_name!! key_name must contain only alphabets and no special characters or numbers\")"
      ],
      "execution_count": 4,
      "outputs": []
    },
    {
      "cell_type": "code",
      "metadata": {
        "id": "nH6OevD0H4a3"
      },
      "source": [
        "#Read operation\n",
        "#Syntax \"read(key_name)\"\n",
        "def read(key):\n",
        "    if key not in d:\n",
        "        #Error Message\n",
        "        print(\"Error: The given key does not exist in database. Please enter a valid key\") \n",
        "    else:\n",
        "        b=d[key]\n",
        "        if b[1]!=0:\n",
        "            #Compare the present time with expiry time\n",
        "            if time.time()<b[1]: \n",
        "                stri=str(key)+\":\"+str(b[0])\n",
        "                #Return the value in the format of JsonObject i.e.,\"key_name:value\"\n",
        "                return stri\n",
        "            else:\n",
        "                #Error Message\n",
        "                print(\"error: time-to-live of\",key,\"has expired\") \n",
        "        else:\n",
        "            stri=str(key)+\":\"+str(b[0])\n",
        "            return stri"
      ],
      "execution_count": 5,
      "outputs": []
    },
    {
      "cell_type": "code",
      "metadata": {
        "id": "Rine1a-xH7XV"
      },
      "source": [
        "#Delete operation\n",
        "#Syntax \"delete(key_name)\"\n",
        "def delete(key):\n",
        "    if key not in d:\n",
        "        #Error Message\n",
        "        print(\"error: given key does not exist in database. Please enter a valid key\") \n",
        "    else:\n",
        "        b=d[key]\n",
        "        if b[1]!=0:\n",
        "            #Compare the current time with expiry time\n",
        "            if time.time()<b[1]: \n",
        "                del d[key]\n",
        "                print(\"key is successfully deleted\")\n",
        "            else:\n",
        "                #Error Message\n",
        "                print(\"error: time-to-live of\",key,\"has expired\") \n",
        "        else:\n",
        "            del d[key]\n",
        "            print(\"key is successfully deleted\")"
      ],
      "execution_count": 6,
      "outputs": []
    },
    {
      "cell_type": "code",
      "metadata": {
        "id": "AKpJ3t5Bcgac"
      },
      "source": [
        "#I have an additional operation of modify in order to change the value of key before its expiry time if provided\n",
        "#Modify operation \n",
        "#Syntax \"modify(key_name,new_value)\"\n",
        "def modify(key,value):\n",
        "    b=d[key]\n",
        "    if b[1]!=0:\n",
        "        if time.time()<b[1]:\n",
        "            if key not in d:\n",
        "                #Error Message\n",
        "                print(\"error: given key does not exist in database. Please enter a valid key\") \n",
        "            else:\n",
        "                l=[]\n",
        "                l.append(value)\n",
        "                l.append(b[1])\n",
        "                d[key]=l\n",
        "        else:\n",
        "            #Error Message\n",
        "            print(\"error: time-to-live of\",key,\"has expired\") \n",
        "    else:\n",
        "        if key not in d:\n",
        "            #Error Message\n",
        "            print(\"error: given key does not exist in database. Please enter a valid key\") \n",
        "        else:\n",
        "            l=[]\n",
        "            l.append(value)\n",
        "            l.append(b[1])\n",
        "            d[key]=l\n"
      ],
      "execution_count": 7,
      "outputs": []
    },
    {
      "cell_type": "markdown",
      "metadata": {
        "id": "efC_oOBvfGPF"
      },
      "source": [
        "1. To create a key-value pair, use the syntax: ***create(key,value,timeout)*** \\\n",
        "2. To read the value of a given key, use the syntax: ***read(key)*** \\\n",
        "3. To delete the key-value pair from the database, use the syntax: ***delete(key)*** \\\n",
        "4. To modify the value of a given key, use the syntax: ***modify(key,value)*** \\\n",
        "\n",
        "      **Some examples:** \\\n",
        "      **Key :** Fruitname \\\n",
        "    **Value:** Cost of the fruit \\"
      ]
    },
    {
      "cell_type": "code",
      "metadata": {
        "id": "_0VDWCDFdQrg"
      },
      "source": [
        "create('Apple',30)"
      ],
      "execution_count": 26,
      "outputs": []
    },
    {
      "cell_type": "code",
      "metadata": {
        "colab": {
          "base_uri": "https://localhost:8080/",
          "height": 35
        },
        "id": "jenxenjceDCk",
        "outputId": "e4e6f18d-5f5b-47f8-f7f9-10b7d5fa78fb"
      },
      "source": [
        "read('Apple')"
      ],
      "execution_count": 27,
      "outputs": [
        {
          "output_type": "execute_result",
          "data": {
            "application/vnd.google.colaboratory.intrinsic+json": {
              "type": "string"
            },
            "text/plain": [
              "'Apple:30'"
            ]
          },
          "metadata": {
            "tags": []
          },
          "execution_count": 27
        }
      ]
    },
    {
      "cell_type": "code",
      "metadata": {
        "id": "joHXcjaueHd4"
      },
      "source": [
        "modify('Apple',20)"
      ],
      "execution_count": 28,
      "outputs": []
    },
    {
      "cell_type": "code",
      "metadata": {
        "colab": {
          "base_uri": "https://localhost:8080/"
        },
        "id": "O--wtSQveL6i",
        "outputId": "9b51a2fd-3e63-4584-e047-68ebf2fb91e7"
      },
      "source": [
        "delete('Apple')"
      ],
      "execution_count": 29,
      "outputs": [
        {
          "output_type": "stream",
          "text": [
            "key is successfully deleted\n"
          ],
          "name": "stdout"
        }
      ]
    },
    {
      "cell_type": "code",
      "metadata": {
        "id": "ALqkqUJheOlK"
      },
      "source": [
        "create('Pineapple',40,1)"
      ],
      "execution_count": 30,
      "outputs": []
    },
    {
      "cell_type": "code",
      "metadata": {
        "colab": {
          "base_uri": "https://localhost:8080/"
        },
        "id": "B8XdWKn8eVNd",
        "outputId": "5cff7964-672a-4259-801a-140a91b1a554"
      },
      "source": [
        "read('Pineapple')"
      ],
      "execution_count": 31,
      "outputs": [
        {
          "output_type": "stream",
          "text": [
            "error: time-to-live of Pineapple has expired\n"
          ],
          "name": "stdout"
        }
      ]
    },
    {
      "cell_type": "code",
      "metadata": {
        "colab": {
          "base_uri": "https://localhost:8080/"
        },
        "id": "4hXqytOBeXF4",
        "outputId": "9b3d30fa-ff8e-4995-e50d-dfc8a2f966f9"
      },
      "source": [
        "modify('Pineapple',30)"
      ],
      "execution_count": 33,
      "outputs": [
        {
          "output_type": "stream",
          "text": [
            "error: time-to-live of Pineapple has expired\n"
          ],
          "name": "stdout"
        }
      ]
    },
    {
      "cell_type": "code",
      "metadata": {
        "colab": {
          "base_uri": "https://localhost:8080/"
        },
        "id": "l4jzHpfaebtg",
        "outputId": "aa6c1a11-3abd-47b2-e804-135c248def60"
      },
      "source": [
        "delete('Pineapple')"
      ],
      "execution_count": 34,
      "outputs": [
        {
          "output_type": "stream",
          "text": [
            "error: time-to-live of Pineapple has expired\n"
          ],
          "name": "stdout"
        }
      ]
    }
  ]
}